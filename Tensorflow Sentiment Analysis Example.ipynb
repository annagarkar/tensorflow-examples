{
 "cells": [
  {
   "cell_type": "markdown",
   "metadata": {},
   "source": [
    "# Sentiment Analysis of IMDB Reviews\n",
    "Perform sentiment analysis of reference dataset of 25k IMDB reviews both with transfer learning from a pretrained model and also using a model trained from scratch"
   ]
  },
  {
   "cell_type": "markdown",
   "metadata": {},
   "source": [
    "## Imports"
   ]
  },
  {
   "cell_type": "code",
   "execution_count": 1,
   "metadata": {},
   "outputs": [],
   "source": [
    "import re\n",
    "import string"
   ]
  },
  {
   "cell_type": "code",
   "execution_count": 2,
   "metadata": {},
   "outputs": [],
   "source": [
    "import os"
   ]
  },
  {
   "cell_type": "code",
   "execution_count": 3,
   "metadata": {},
   "outputs": [],
   "source": [
    "os.environ[\"XLA_FLAGS\"]=\"--xla_gpu_cuda_data_dir=C:/Users/user/anaconda3\""
   ]
  },
  {
   "cell_type": "code",
   "execution_count": 4,
   "metadata": {},
   "outputs": [],
   "source": [
    "import numpy as np\n",
    "import pandas as pd\n",
    "import tensorflow as tf\n",
    "import tensorflow_datasets as tfds\n",
    "import tensorflow_hub as hub"
   ]
  },
  {
   "cell_type": "code",
   "execution_count": 5,
   "metadata": {},
   "outputs": [
    {
     "data": {
      "text/plain": [
       "[PhysicalDevice(name='/physical_device:GPU:0', device_type='GPU')]"
      ]
     },
     "execution_count": 5,
     "metadata": {},
     "output_type": "execute_result"
    }
   ],
   "source": [
    "tf.config.experimental.list_physical_devices('GPU')"
   ]
  },
  {
   "cell_type": "markdown",
   "metadata": {},
   "source": [
    "## Definitions"
   ]
  },
  {
   "cell_type": "markdown",
   "metadata": {},
   "source": [
    "### Constants"
   ]
  },
  {
   "cell_type": "code",
   "execution_count": 6,
   "metadata": {},
   "outputs": [],
   "source": [
    "BATCH_SIZE=1000"
   ]
  },
  {
   "cell_type": "markdown",
   "metadata": {},
   "source": [
    "### Functions"
   ]
  },
  {
   "cell_type": "code",
   "execution_count": 7,
   "metadata": {},
   "outputs": [],
   "source": [
    "def standardize_text(text):\n",
    "    lower = tf.strings.lower(text)\n",
    "    nobreak = tf.strings.regex_replace(lower, '<br />', ' ')\n",
    "    nopunct = tf.strings.regex_replace(nobreak, '[%s]' % re.escape(string.punctuation), '')\n",
    "    return nopunct"
   ]
  },
  {
   "cell_type": "code",
   "execution_count": 8,
   "metadata": {},
   "outputs": [],
   "source": [
    "def normalize_datum(text, label):\n",
    "    return standardize_text(text), label"
   ]
  },
  {
   "cell_type": "markdown",
   "metadata": {},
   "source": [
    "### Classes"
   ]
  },
  {
   "cell_type": "code",
   "execution_count": null,
   "metadata": {},
   "outputs": [],
   "source": []
  },
  {
   "cell_type": "markdown",
   "metadata": {},
   "source": [
    "## Load Data"
   ]
  },
  {
   "cell_type": "code",
   "execution_count": 9,
   "metadata": {},
   "outputs": [],
   "source": [
    "read_config = tfds.ReadConfig(shuffle_seed = 42)"
   ]
  },
  {
   "cell_type": "code",
   "execution_count": 10,
   "metadata": {},
   "outputs": [],
   "source": [
    "split_names = ['train', 'dev', 'test']"
   ]
  },
  {
   "cell_type": "code",
   "execution_count": 11,
   "metadata": {},
   "outputs": [],
   "source": [
    "splits, info = tfds.load(\n",
    "    name='imdb_reviews',\n",
    "    split=[\n",
    "        'train[:80%]', 'train[80%:]', 'test[:20%]'\n",
    "    ],\n",
    "    with_info=True,\n",
    "    as_supervised=True,\n",
    "    shuffle_files=True,\n",
    "    download=True\n",
    ")"
   ]
  },
  {
   "cell_type": "code",
   "execution_count": 12,
   "metadata": {},
   "outputs": [],
   "source": [
    "assert all(isinstance(ds, tf.data.Dataset) for ds in splits), 'dataset load failed'"
   ]
  },
  {
   "cell_type": "code",
   "execution_count": 13,
   "metadata": {
    "scrolled": true
   },
   "outputs": [
    {
     "name": "stdout",
     "output_type": "stream",
     "text": [
      "train 20000\n",
      "dev 5000\n",
      "test 5000\n"
     ]
    }
   ],
   "source": [
    "for name, split in zip(split_names,splits):\n",
    "    print(name, len(split))"
   ]
  },
  {
   "cell_type": "code",
   "execution_count": 14,
   "metadata": {},
   "outputs": [],
   "source": [
    "splits = dict(zip(split_names, splits))"
   ]
  },
  {
   "cell_type": "code",
   "execution_count": 15,
   "metadata": {
    "scrolled": false
   },
   "outputs": [
    {
     "name": "stdout",
     "output_type": "stream",
     "text": [
      "(<tf.Tensor: shape=(), dtype=string, numpy=b'this was an absolutely terrible movie dont be lured in by christopher walken or michael ironside both are great actors but this must simply be their worst role in history even their great acting could not redeem this movies ridiculous storyline this movie is an early nineties us propaganda piece the most pathetic scenes were those when the columbian rebels were making their cases for revolutions maria conchita alonso appeared phony and her pseudolove affair with walken was nothing but a pathetic emotional plug in a movie that was devoid of any real meaning i am disappointed that there are movies like this ruining actors like christopher walkens good name i could barely sit through it'>, <tf.Tensor: shape=(), dtype=int64, numpy=0>)\n",
      "\n",
      "(<tf.Tensor: shape=(), dtype=string, numpy=b'i have been known to fall asleep during films but this is usually due to a combination of things including really tired being warm and comfortable on the sette and having just eaten a lot however on this occasion i fell asleep because the film was rubbish the plot development was constant constantly slow and boring things seemed to happen but with no explanation of what was causing them or why i admit i may have missed part of the film but i watched the majority of it and everything just seemed to happen of its own accord without any real concern for anything else i cant recommend this film at all'>, <tf.Tensor: shape=(), dtype=int64, numpy=0>)\n",
      "\n"
     ]
    }
   ],
   "source": [
    "for datum in splits['train'].take(2):\n",
    "    print(normalize_datum(*datum))\n",
    "    print()"
   ]
  },
  {
   "cell_type": "markdown",
   "metadata": {},
   "source": [
    "## Preprocess Data"
   ]
  },
  {
   "cell_type": "markdown",
   "metadata": {},
   "source": [
    "### Train"
   ]
  },
  {
   "cell_type": "code",
   "execution_count": 16,
   "metadata": {},
   "outputs": [],
   "source": [
    "ds_train = splits['train'].map(normalize_datum, num_parallel_calls=tf.data.AUTOTUNE).take(len(splits['train']))\n",
    "ds_train = ds_train.cache()\n",
    "ds_train = ds_train.shuffle(len(ds_train))\n",
    "ds_train = ds_train.batch(BATCH_SIZE)\n",
    "ds_train = ds_train.prefetch(tf.data.AUTOTUNE)"
   ]
  },
  {
   "cell_type": "code",
   "execution_count": 17,
   "metadata": {},
   "outputs": [],
   "source": [
    "N_BATCHES = len(ds_train)//BATCH_SIZE"
   ]
  },
  {
   "cell_type": "markdown",
   "metadata": {},
   "source": [
    "### Dev"
   ]
  },
  {
   "cell_type": "code",
   "execution_count": 18,
   "metadata": {},
   "outputs": [],
   "source": [
    "ds_dev = splits['dev'].map(normalize_datum, num_parallel_calls=tf.data.AUTOTUNE).take(len(splits['dev']))\n",
    "ds_dev = ds_dev.batch(BATCH_SIZE)\n",
    "ds_dev = ds_dev.cache()\n",
    "ds_dev = ds_dev.prefetch(tf.data.AUTOTUNE)"
   ]
  },
  {
   "cell_type": "markdown",
   "metadata": {},
   "source": [
    "### Test"
   ]
  },
  {
   "cell_type": "code",
   "execution_count": 19,
   "metadata": {},
   "outputs": [],
   "source": [
    "ds_test = splits['test'].map(normalize_datum, num_parallel_calls=tf.data.AUTOTUNE).take(len(splits['test']))\n",
    "ds_test = ds_test.batch(BATCH_SIZE)\n",
    "ds_test = ds_test.cache()\n",
    "ds_test = ds_test.prefetch(tf.data.AUTOTUNE)"
   ]
  },
  {
   "cell_type": "markdown",
   "metadata": {},
   "source": [
    "## Use Pretrained Model"
   ]
  },
  {
   "cell_type": "code",
   "execution_count": 20,
   "metadata": {},
   "outputs": [],
   "source": [
    "model_url = 'https://tfhub.dev/google/universal-sentence-encoder/4'"
   ]
  },
  {
   "cell_type": "code",
   "execution_count": 21,
   "metadata": {
    "scrolled": true
   },
   "outputs": [
    {
     "name": "stdout",
     "output_type": "stream",
     "text": [
      "WARNING:tensorflow:Please fix your imports. Module tensorflow.python.training.tracking.data_structures has been moved to tensorflow.python.trackable.data_structures. The old module will be deleted in version 2.11.\n"
     ]
    },
    {
     "name": "stderr",
     "output_type": "stream",
     "text": [
      "WARNING:tensorflow:Please fix your imports. Module tensorflow.python.training.tracking.data_structures has been moved to tensorflow.python.trackable.data_structures. The old module will be deleted in version 2.11.\n"
     ]
    }
   ],
   "source": [
    "embedding_layer = hub.KerasLayer(model_url, output_shape=[512], input_shape=[], dtype=tf.string)"
   ]
  },
  {
   "cell_type": "code",
   "execution_count": 22,
   "metadata": {},
   "outputs": [],
   "source": [
    "ridge = 0.001\n",
    "dropout = 0.5"
   ]
  },
  {
   "cell_type": "code",
   "execution_count": 23,
   "metadata": {},
   "outputs": [],
   "source": [
    "model = tf.keras.models.Sequential([\n",
    "    embedding_layer,\n",
    "    tf.keras.layers.Dense(\n",
    "        64,\n",
    "        activation='relu',\n",
    "        kernel_initializer=\"he_normal\",\n",
    "        kernel_regularizer=tf.keras.regularizers.l2(ridge)\n",
    "    ),\n",
    "    tf.keras.layers.Dropout(dropout),\n",
    "    tf.keras.layers.Dense(\n",
    "        64,\n",
    "        activation='relu',\n",
    "        kernel_initializer=\"he_normal\",\n",
    "        kernel_regularizer=tf.keras.regularizers.l2(ridge)\n",
    "    ),\n",
    "    tf.keras.layers.Dropout(dropout),\n",
    "    tf.keras.layers.Dense(1, kernel_regularizer=tf.keras.regularizers.l2(ridge))\n",
    "])"
   ]
  },
  {
   "cell_type": "code",
   "execution_count": 24,
   "metadata": {},
   "outputs": [],
   "source": [
    "metric_names = [\n",
    "    \"binary_crossentropy\",\n",
    "    \"auc\",\n",
    "    \"precision\",\n",
    "    \"recall\",\n",
    "]"
   ]
  },
  {
   "cell_type": "code",
   "execution_count": 25,
   "metadata": {},
   "outputs": [],
   "source": [
    "metrics = [\n",
    "    tf.keras.losses.BinaryCrossentropy(from_logits=True, name='binary_crossentropy'),\n",
    "    tf.keras.metrics.AUC(),\n",
    "    tf.keras.metrics.Precision(),\n",
    "    tf.keras.metrics.Recall(),\n",
    "]"
   ]
  },
  {
   "cell_type": "code",
   "execution_count": 26,
   "metadata": {},
   "outputs": [],
   "source": [
    "model.compile(\n",
    "    optimizer=tf.keras.optimizers.Adam(0.001),\n",
    "    loss=tf.keras.losses.BinaryCrossentropy(from_logits=True),\n",
    "    metrics=metrics\n",
    ")"
   ]
  },
  {
   "cell_type": "code",
   "execution_count": 27,
   "metadata": {},
   "outputs": [
    {
     "name": "stdout",
     "output_type": "stream",
     "text": [
      "Model: \"sequential\"\n",
      "_________________________________________________________________\n",
      " Layer (type)                Output Shape              Param #   \n",
      "=================================================================\n",
      " keras_layer (KerasLayer)    (None, 512)               256797824 \n",
      "                                                                 \n",
      " dense (Dense)               (None, 64)                32832     \n",
      "                                                                 \n",
      " dropout (Dropout)           (None, 64)                0         \n",
      "                                                                 \n",
      " dense_1 (Dense)             (None, 64)                4160      \n",
      "                                                                 \n",
      " dropout_1 (Dropout)         (None, 64)                0         \n",
      "                                                                 \n",
      " dense_2 (Dense)             (None, 1)                 65        \n",
      "                                                                 \n",
      "=================================================================\n",
      "Total params: 256,834,881\n",
      "Trainable params: 37,057\n",
      "Non-trainable params: 256,797,824\n",
      "_________________________________________________________________\n"
     ]
    }
   ],
   "source": [
    "model.summary()"
   ]
  },
  {
   "cell_type": "code",
   "execution_count": 28,
   "metadata": {},
   "outputs": [],
   "source": [
    "early_stopping = tf.keras.callbacks.EarlyStopping(\n",
    "    monitor='val_loss',\n",
    "    patience=5,\n",
    "    verbose=1,\n",
    "    restore_best_weights=True\n",
    ")"
   ]
  },
  {
   "cell_type": "code",
   "execution_count": 29,
   "metadata": {
    "scrolled": true
   },
   "outputs": [
    {
     "name": "stdout",
     "output_type": "stream",
     "text": [
      "Epoch 1/100\n",
      "20/20 [==============================] - 28s 1s/step - loss: 0.9049 - binary_crossentropy: 0.6729 - auc: 0.5801 - precision: 1.0000 - recall: 2.0062e-04 - val_loss: 0.8367 - val_binary_crossentropy: 0.6308 - val_auc: 0.7655 - val_precision: 0.0000e+00 - val_recall: 0.0000e+00\n",
      "Epoch 2/100\n",
      "20/20 [==============================] - 23s 1s/step - loss: 0.7860 - binary_crossentropy: 0.5971 - auc: 0.7488 - precision: 0.9089 - recall: 0.1211 - val_loss: 0.6799 - val_binary_crossentropy: 0.5061 - val_auc: 0.8688 - val_precision: 0.9488 - val_recall: 0.5413\n",
      "Epoch 3/100\n",
      "20/20 [==============================] - 23s 1s/step - loss: 0.6517 - binary_crossentropy: 0.4863 - auc: 0.8314 - precision: 0.8801 - recall: 0.5377 - val_loss: 0.5533 - val_binary_crossentropy: 0.3958 - val_auc: 0.8826 - val_precision: 0.9021 - val_recall: 0.7424\n",
      "Epoch 4/100\n",
      "20/20 [==============================] - 23s 1s/step - loss: 0.5637 - binary_crossentropy: 0.4122 - auc: 0.8626 - precision: 0.8812 - recall: 0.7203 - val_loss: 0.4982 - val_binary_crossentropy: 0.3532 - val_auc: 0.8828 - val_precision: 0.8890 - val_recall: 0.7914\n",
      "Epoch 5/100\n",
      "20/20 [==============================] - 23s 1s/step - loss: 0.5124 - binary_crossentropy: 0.3734 - auc: 0.8788 - precision: 0.8853 - recall: 0.7763 - val_loss: 0.4670 - val_binary_crossentropy: 0.3344 - val_auc: 0.8825 - val_precision: 0.8912 - val_recall: 0.8028\n",
      "Epoch 6/100\n",
      "20/20 [==============================] - 23s 1s/step - loss: 0.4829 - binary_crossentropy: 0.3561 - auc: 0.8800 - precision: 0.8845 - recall: 0.7949 - val_loss: 0.4508 - val_binary_crossentropy: 0.3302 - val_auc: 0.8788 - val_precision: 0.9048 - val_recall: 0.7847\n",
      "Epoch 7/100\n",
      "20/20 [==============================] - 23s 1s/step - loss: 0.4632 - binary_crossentropy: 0.3479 - auc: 0.8839 - precision: 0.8898 - recall: 0.7991 - val_loss: 0.4351 - val_binary_crossentropy: 0.3252 - val_auc: 0.8848 - val_precision: 0.8889 - val_recall: 0.8159\n",
      "Epoch 8/100\n",
      "20/20 [==============================] - 23s 1s/step - loss: 0.4500 - binary_crossentropy: 0.3447 - auc: 0.8831 - precision: 0.8897 - recall: 0.8028 - val_loss: 0.4250 - val_binary_crossentropy: 0.3244 - val_auc: 0.8818 - val_precision: 0.8992 - val_recall: 0.8040\n",
      "Epoch 9/100\n",
      "20/20 [==============================] - 23s 1s/step - loss: 0.4379 - binary_crossentropy: 0.3412 - auc: 0.8854 - precision: 0.8945 - recall: 0.8041 - val_loss: 0.4159 - val_binary_crossentropy: 0.3232 - val_auc: 0.8817 - val_precision: 0.8995 - val_recall: 0.8024\n",
      "Epoch 10/100\n",
      "20/20 [==============================] - 23s 1s/step - loss: 0.4260 - binary_crossentropy: 0.3367 - auc: 0.8877 - precision: 0.8909 - recall: 0.8124 - val_loss: 0.4128 - val_binary_crossentropy: 0.3269 - val_auc: 0.8774 - val_precision: 0.9062 - val_recall: 0.7748\n",
      "Epoch 11/100\n",
      "20/20 [==============================] - 24s 1s/step - loss: 0.4184 - binary_crossentropy: 0.3353 - auc: 0.8861 - precision: 0.8954 - recall: 0.8034 - val_loss: 0.4022 - val_binary_crossentropy: 0.3221 - val_auc: 0.8848 - val_precision: 0.8951 - val_recall: 0.8056\n",
      "Epoch 12/100\n",
      "20/20 [==============================] - 23s 1s/step - loss: 0.4094 - binary_crossentropy: 0.3317 - auc: 0.8890 - precision: 0.8979 - recall: 0.8085 - val_loss: 0.3956 - val_binary_crossentropy: 0.3205 - val_auc: 0.8875 - val_precision: 0.8882 - val_recall: 0.8194\n",
      "Epoch 13/100\n",
      "20/20 [==============================] - 23s 1s/step - loss: 0.4040 - binary_crossentropy: 0.3310 - auc: 0.8882 - precision: 0.8941 - recall: 0.8063 - val_loss: 0.3911 - val_binary_crossentropy: 0.3202 - val_auc: 0.8874 - val_precision: 0.8879 - val_recall: 0.8234\n",
      "Epoch 14/100\n",
      "20/20 [==============================] - 23s 1s/step - loss: 0.3996 - binary_crossentropy: 0.3306 - auc: 0.8878 - precision: 0.8954 - recall: 0.8090 - val_loss: 0.3871 - val_binary_crossentropy: 0.3201 - val_auc: 0.8871 - val_precision: 0.8909 - val_recall: 0.8167\n",
      "Epoch 15/100\n",
      "20/20 [==============================] - 23s 1s/step - loss: 0.3949 - binary_crossentropy: 0.3292 - auc: 0.8883 - precision: 0.8933 - recall: 0.8087 - val_loss: 0.3833 - val_binary_crossentropy: 0.3194 - val_auc: 0.8856 - val_precision: 0.8978 - val_recall: 0.8084\n",
      "Epoch 16/100\n",
      "20/20 [==============================] - 23s 1s/step - loss: 0.3883 - binary_crossentropy: 0.3258 - auc: 0.8891 - precision: 0.8977 - recall: 0.8077 - val_loss: 0.3800 - val_binary_crossentropy: 0.3188 - val_auc: 0.8845 - val_precision: 0.8986 - val_recall: 0.8017\n",
      "Epoch 17/100\n",
      "20/20 [==============================] - 23s 1s/step - loss: 0.3883 - binary_crossentropy: 0.3282 - auc: 0.8890 - precision: 0.8979 - recall: 0.8106 - val_loss: 0.3772 - val_binary_crossentropy: 0.3184 - val_auc: 0.8860 - val_precision: 0.8953 - val_recall: 0.8040\n",
      "Epoch 18/100\n",
      "20/20 [==============================] - 23s 1s/step - loss: 0.3843 - binary_crossentropy: 0.3266 - auc: 0.8895 - precision: 0.8961 - recall: 0.8106 - val_loss: 0.3743 - val_binary_crossentropy: 0.3177 - val_auc: 0.8863 - val_precision: 0.8986 - val_recall: 0.8056\n",
      "Epoch 19/100\n",
      "20/20 [==============================] - 24s 1s/step - loss: 0.3817 - binary_crossentropy: 0.3259 - auc: 0.8886 - precision: 0.8973 - recall: 0.8079 - val_loss: 0.3732 - val_binary_crossentropy: 0.3186 - val_auc: 0.8897 - val_precision: 0.8907 - val_recall: 0.8179\n",
      "Epoch 20/100\n",
      "20/20 [==============================] - 23s 1s/step - loss: 0.3814 - binary_crossentropy: 0.3273 - auc: 0.8887 - precision: 0.8993 - recall: 0.8033 - val_loss: 0.3706 - val_binary_crossentropy: 0.3172 - val_auc: 0.8882 - val_precision: 0.8950 - val_recall: 0.8147\n",
      "Epoch 21/100\n",
      "20/20 [==============================] - 23s 1s/step - loss: 0.3778 - binary_crossentropy: 0.3251 - auc: 0.8912 - precision: 0.8963 - recall: 0.8141 - val_loss: 0.3696 - val_binary_crossentropy: 0.3173 - val_auc: 0.8854 - val_precision: 0.8994 - val_recall: 0.8052\n",
      "Epoch 22/100\n",
      "20/20 [==============================] - 23s 1s/step - loss: 0.3766 - binary_crossentropy: 0.3250 - auc: 0.8897 - precision: 0.8965 - recall: 0.8113 - val_loss: 0.3684 - val_binary_crossentropy: 0.3174 - val_auc: 0.8879 - val_precision: 0.8956 - val_recall: 0.8104\n",
      "Epoch 23/100\n",
      "20/20 [==============================] - 23s 1s/step - loss: 0.3716 - binary_crossentropy: 0.3209 - auc: 0.8900 - precision: 0.8971 - recall: 0.8072 - val_loss: 0.3704 - val_binary_crossentropy: 0.3202 - val_auc: 0.8893 - val_precision: 0.8771 - val_recall: 0.8463\n",
      "Epoch 24/100\n",
      "20/20 [==============================] - 23s 1s/step - loss: 0.3731 - binary_crossentropy: 0.3233 - auc: 0.8887 - precision: 0.8954 - recall: 0.8096 - val_loss: 0.3672 - val_binary_crossentropy: 0.3176 - val_auc: 0.8878 - val_precision: 0.8891 - val_recall: 0.8269\n",
      "Epoch 25/100\n",
      "20/20 [==============================] - 24s 1s/step - loss: 0.3702 - binary_crossentropy: 0.3209 - auc: 0.8906 - precision: 0.8990 - recall: 0.8124 - val_loss: 0.3654 - val_binary_crossentropy: 0.3166 - val_auc: 0.8870 - val_precision: 0.8946 - val_recall: 0.8186\n",
      "Epoch 26/100\n",
      "20/20 [==============================] - 23s 1s/step - loss: 0.3695 - binary_crossentropy: 0.3211 - auc: 0.8893 - precision: 0.8985 - recall: 0.8121 - val_loss: 0.3645 - val_binary_crossentropy: 0.3165 - val_auc: 0.8867 - val_precision: 0.8943 - val_recall: 0.8088\n",
      "Epoch 27/100\n",
      "20/20 [==============================] - 23s 1s/step - loss: 0.3714 - binary_crossentropy: 0.3235 - auc: 0.8894 - precision: 0.8979 - recall: 0.8050 - val_loss: 0.3650 - val_binary_crossentropy: 0.3174 - val_auc: 0.8885 - val_precision: 0.8968 - val_recall: 0.8001\n",
      "Epoch 28/100\n",
      "20/20 [==============================] - 25s 1s/step - loss: 0.3634 - binary_crossentropy: 0.3160 - auc: 0.8910 - precision: 0.9015 - recall: 0.8094 - val_loss: 0.3641 - val_binary_crossentropy: 0.3170 - val_auc: 0.8875 - val_precision: 0.8861 - val_recall: 0.8333\n",
      "Epoch 29/100\n",
      "20/20 [==============================] - 25s 1s/step - loss: 0.3678 - binary_crossentropy: 0.3209 - auc: 0.8906 - precision: 0.8985 - recall: 0.8132 - val_loss: 0.3643 - val_binary_crossentropy: 0.3176 - val_auc: 0.8901 - val_precision: 0.8871 - val_recall: 0.8285\n",
      "Epoch 30/100\n"
     ]
    },
    {
     "name": "stdout",
     "output_type": "stream",
     "text": [
      "20/20 [==============================] - 26s 1s/step - loss: 0.3648 - binary_crossentropy: 0.3181 - auc: 0.8908 - precision: 0.8988 - recall: 0.8127 - val_loss: 0.3631 - val_binary_crossentropy: 0.3166 - val_auc: 0.8868 - val_precision: 0.8974 - val_recall: 0.8021\n",
      "Epoch 31/100\n",
      "20/20 [==============================] - 24s 1s/step - loss: 0.3658 - binary_crossentropy: 0.3195 - auc: 0.8909 - precision: 0.8985 - recall: 0.8096 - val_loss: 0.3642 - val_binary_crossentropy: 0.3179 - val_auc: 0.8837 - val_precision: 0.9049 - val_recall: 0.7934\n",
      "Epoch 32/100\n",
      "20/20 [==============================] - 24s 1s/step - loss: 0.3676 - binary_crossentropy: 0.3216 - auc: 0.8910 - precision: 0.9013 - recall: 0.8091 - val_loss: 0.3622 - val_binary_crossentropy: 0.3161 - val_auc: 0.8862 - val_precision: 0.8982 - val_recall: 0.8052\n",
      "Epoch 33/100\n",
      "20/20 [==============================] - 24s 1s/step - loss: 0.3647 - binary_crossentropy: 0.3187 - auc: 0.8917 - precision: 0.8992 - recall: 0.8109 - val_loss: 0.3633 - val_binary_crossentropy: 0.3174 - val_auc: 0.8842 - val_precision: 0.9056 - val_recall: 0.7918\n",
      "Epoch 34/100\n",
      "20/20 [==============================] - 23s 1s/step - loss: 0.3651 - binary_crossentropy: 0.3193 - auc: 0.8898 - precision: 0.8982 - recall: 0.8088 - val_loss: 0.3622 - val_binary_crossentropy: 0.3166 - val_auc: 0.8905 - val_precision: 0.8889 - val_recall: 0.8285\n",
      "Epoch 35/100\n",
      "20/20 [==============================] - 23s 1s/step - loss: 0.3645 - binary_crossentropy: 0.3189 - auc: 0.8901 - precision: 0.8996 - recall: 0.8118 - val_loss: 0.3641 - val_binary_crossentropy: 0.3183 - val_auc: 0.8849 - val_precision: 0.9059 - val_recall: 0.7953\n",
      "Epoch 36/100\n",
      "20/20 [==============================] - 24s 1s/step - loss: 0.3636 - binary_crossentropy: 0.3179 - auc: 0.8925 - precision: 0.9008 - recall: 0.8096 - val_loss: 0.3614 - val_binary_crossentropy: 0.3159 - val_auc: 0.8877 - val_precision: 0.8920 - val_recall: 0.8194\n",
      "Epoch 37/100\n",
      "20/20 [==============================] - 24s 1s/step - loss: 0.3624 - binary_crossentropy: 0.3170 - auc: 0.8928 - precision: 0.9020 - recall: 0.8108 - val_loss: 0.3638 - val_binary_crossentropy: 0.3185 - val_auc: 0.8912 - val_precision: 0.8810 - val_recall: 0.8396\n",
      "Epoch 38/100\n",
      "20/20 [==============================] - 23s 1s/step - loss: 0.3632 - binary_crossentropy: 0.3178 - auc: 0.8927 - precision: 0.9017 - recall: 0.8113 - val_loss: 0.3625 - val_binary_crossentropy: 0.3172 - val_auc: 0.8902 - val_precision: 0.8890 - val_recall: 0.8289\n",
      "Epoch 39/100\n",
      "20/20 [==============================] - 24s 1s/step - loss: 0.3616 - binary_crossentropy: 0.3163 - auc: 0.8921 - precision: 0.9004 - recall: 0.8137 - val_loss: 0.3617 - val_binary_crossentropy: 0.3164 - val_auc: 0.8893 - val_precision: 0.8933 - val_recall: 0.8206\n",
      "Epoch 40/100\n",
      "20/20 [==============================] - 23s 1s/step - loss: 0.3612 - binary_crossentropy: 0.3158 - auc: 0.8937 - precision: 0.9017 - recall: 0.8175 - val_loss: 0.3626 - val_binary_crossentropy: 0.3173 - val_auc: 0.8863 - val_precision: 0.9019 - val_recall: 0.7989\n",
      "Epoch 41/100\n",
      "20/20 [==============================] - ETA: 0s - loss: 0.3623 - binary_crossentropy: 0.3169 - auc: 0.8929 - precision: 0.9006 - recall: 0.8075Restoring model weights from the end of the best epoch: 36.\n",
      "20/20 [==============================] - 23s 1s/step - loss: 0.3623 - binary_crossentropy: 0.3169 - auc: 0.8929 - precision: 0.9006 - recall: 0.8075 - val_loss: 0.3630 - val_binary_crossentropy: 0.3176 - val_auc: 0.8843 - val_precision: 0.9080 - val_recall: 0.7918\n",
      "Epoch 41: early stopping\n"
     ]
    }
   ],
   "source": [
    "history = model.fit(\n",
    "    ds_train,\n",
    "    validation_data=ds_dev,\n",
    "    epochs=100,\n",
    "    callbacks=[early_stopping]\n",
    ")"
   ]
  },
  {
   "cell_type": "code",
   "execution_count": 30,
   "metadata": {},
   "outputs": [
    {
     "name": "stdout",
     "output_type": "stream",
     "text": [
      "20/20 [==============================] - 18s 902ms/step - loss: 0.3433 - binary_crossentropy: 0.2977 - auc: 0.8984 - precision: 0.9009 - recall: 0.8301\n"
     ]
    }
   ],
   "source": [
    "train_metrics = model.evaluate(ds_train)"
   ]
  },
  {
   "cell_type": "code",
   "execution_count": 31,
   "metadata": {},
   "outputs": [
    {
     "name": "stdout",
     "output_type": "stream",
     "text": [
      "loss 0.34326696395874023\n",
      "binary_crossentropy 0.2976927161216736\n",
      "auc 0.8983942270278931\n",
      "precision 0.9009253978729248\n",
      "recall 0.8300732374191284\n"
     ]
    }
   ],
   "source": [
    "for n,m in zip(['loss']+metric_names, train_metrics):\n",
    "    print(n,m)"
   ]
  },
  {
   "cell_type": "code",
   "execution_count": 32,
   "metadata": {},
   "outputs": [
    {
     "name": "stdout",
     "output_type": "stream",
     "text": [
      "5/5 [==============================] - 5s 1000ms/step - loss: 0.3614 - binary_crossentropy: 0.3159 - auc: 0.8877 - precision: 0.8920 - recall: 0.8194\n"
     ]
    }
   ],
   "source": [
    "dev_metrics = model.evaluate(ds_dev)"
   ]
  },
  {
   "cell_type": "code",
   "execution_count": 33,
   "metadata": {},
   "outputs": [
    {
     "name": "stdout",
     "output_type": "stream",
     "text": [
      "loss 0.3614262640476227\n",
      "binary_crossentropy 0.3158520758152008\n",
      "auc 0.8877383470535278\n",
      "precision 0.8920429944992065\n",
      "recall 0.8194389343261719\n"
     ]
    }
   ],
   "source": [
    "for n,m in zip(['loss']+metric_names, dev_metrics):\n",
    "    print(n,m)"
   ]
  },
  {
   "cell_type": "code",
   "execution_count": 34,
   "metadata": {},
   "outputs": [],
   "source": [
    "pretrained_model = model"
   ]
  },
  {
   "cell_type": "markdown",
   "metadata": {},
   "source": [
    "## Train Model From Scratch"
   ]
  },
  {
   "cell_type": "code",
   "execution_count": 35,
   "metadata": {},
   "outputs": [],
   "source": [
    "vocab_size = 10000\n",
    "embedding_dim = 128"
   ]
  },
  {
   "cell_type": "code",
   "execution_count": 36,
   "metadata": {
    "scrolled": false
   },
   "outputs": [],
   "source": [
    "text_ds = splits['train']\\\n",
    "    .map(lambda x,y: x, num_parallel_calls=tf.data.AUTOTUNE)\\\n",
    "    .take(20000)"
   ]
  },
  {
   "cell_type": "code",
   "execution_count": 37,
   "metadata": {},
   "outputs": [],
   "source": [
    "vectorizer = tf.keras.layers.TextVectorization(\n",
    "    standardize=standardize_text,\n",
    "    max_tokens=vocab_size,\n",
    "    output_mode='int',\n",
    "    output_sequence_length=128\n",
    ")\n",
    "vectorizer.adapt(text_ds)"
   ]
  },
  {
   "cell_type": "code",
   "execution_count": 38,
   "metadata": {},
   "outputs": [],
   "source": [
    "ridge = 0.01\n",
    "dropout = 0.5"
   ]
  },
  {
   "cell_type": "code",
   "execution_count": 39,
   "metadata": {},
   "outputs": [],
   "source": [
    "model = tf.keras.models.Sequential([\n",
    "    vectorizer,\n",
    "    tf.keras.layers.Embedding(vocab_size, embedding_dim, name='embedding'),\n",
    "    tf.keras.layers.GlobalMaxPooling1D(),\n",
    "    tf.keras.layers.Dense(\n",
    "        64,\n",
    "        activation='relu',\n",
    "        kernel_initializer=\"he_normal\",\n",
    "        kernel_regularizer=tf.keras.regularizers.l2(ridge)\n",
    "    ),\n",
    "    tf.keras.layers.Dropout(dropout),\n",
    "    tf.keras.layers.Dense(\n",
    "        64,\n",
    "        activation='relu',\n",
    "        kernel_initializer=\"he_normal\",\n",
    "        kernel_regularizer=tf.keras.regularizers.l2(ridge)\n",
    "    ),\n",
    "    tf.keras.layers.Dropout(dropout),\n",
    "    tf.keras.layers.Dense(1, kernel_regularizer=tf.keras.regularizers.l2(ridge))\n",
    "])"
   ]
  },
  {
   "cell_type": "code",
   "execution_count": 40,
   "metadata": {},
   "outputs": [],
   "source": [
    "metric_names = [\n",
    "    \"binary_crossentropy\",\n",
    "    \"auc\",\n",
    "    \"precision\",\n",
    "    \"recall\",\n",
    "]"
   ]
  },
  {
   "cell_type": "code",
   "execution_count": 41,
   "metadata": {},
   "outputs": [],
   "source": [
    "metrics = [\n",
    "    tf.keras.losses.BinaryCrossentropy(from_logits=True, name='binary_crossentropy'),\n",
    "    tf.keras.metrics.AUC(),\n",
    "    tf.keras.metrics.Precision(),\n",
    "    tf.keras.metrics.Recall(),\n",
    "]"
   ]
  },
  {
   "cell_type": "code",
   "execution_count": 42,
   "metadata": {},
   "outputs": [],
   "source": [
    "model.compile(\n",
    "    optimizer=tf.keras.optimizers.Adam(0.001),\n",
    "    loss=tf.keras.losses.BinaryCrossentropy(from_logits=True),\n",
    "    metrics=metrics\n",
    ")"
   ]
  },
  {
   "cell_type": "code",
   "execution_count": 43,
   "metadata": {},
   "outputs": [],
   "source": [
    "early_stopping = tf.keras.callbacks.EarlyStopping(\n",
    "    monitor='val_loss',\n",
    "    patience=5,\n",
    "    verbose=1,\n",
    "    restore_best_weights=True\n",
    ")"
   ]
  },
  {
   "cell_type": "code",
   "execution_count": 44,
   "metadata": {
    "scrolled": true
   },
   "outputs": [
    {
     "name": "stdout",
     "output_type": "stream",
     "text": [
      "Epoch 1/100\n",
      "20/20 [==============================] - 3s 117ms/step - loss: 2.9869 - binary_crossentropy: 0.6931 - auc_1: 0.5118 - precision_1: 0.0000e+00 - recall_1: 0.0000e+00 - val_loss: 2.7185 - val_binary_crossentropy: 0.6897 - val_auc_1: 0.8058 - val_precision_1: 0.0000e+00 - val_recall_1: 0.0000e+00\n",
      "Epoch 2/100\n",
      "20/20 [==============================] - 2s 95ms/step - loss: 2.5111 - binary_crossentropy: 0.6894 - auc_1: 0.5570 - precision_1: 0.0000e+00 - recall_1: 0.0000e+00 - val_loss: 2.2961 - val_binary_crossentropy: 0.6862 - val_auc_1: 0.6724 - val_precision_1: 0.0000e+00 - val_recall_1: 0.0000e+00\n",
      "Epoch 3/100\n",
      "20/20 [==============================] - 2s 104ms/step - loss: 2.1311 - binary_crossentropy: 0.6845 - auc_1: 0.6012 - precision_1: 0.0000e+00 - recall_1: 0.0000e+00 - val_loss: 1.9599 - val_binary_crossentropy: 0.6797 - val_auc_1: 0.8007 - val_precision_1: 0.0000e+00 - val_recall_1: 0.0000e+00\n",
      "Epoch 4/100\n",
      "20/20 [==============================] - 2s 92ms/step - loss: 1.8275 - binary_crossentropy: 0.6751 - auc_1: 0.6865 - precision_1: 0.0000e+00 - recall_1: 0.0000e+00 - val_loss: 1.6896 - val_binary_crossentropy: 0.6670 - val_auc_1: 0.8317 - val_precision_1: 0.0000e+00 - val_recall_1: 0.0000e+00\n",
      "Epoch 5/100\n",
      "20/20 [==============================] - 2s 100ms/step - loss: 1.5815 - binary_crossentropy: 0.6574 - auc_1: 0.7435 - precision_1: 1.0000 - recall_1: 4.0124e-04 - val_loss: 1.4668 - val_binary_crossentropy: 0.6420 - val_auc_1: 0.8385 - val_precision_1: 0.0000e+00 - val_recall_1: 0.0000e+00\n",
      "Epoch 6/100\n",
      "20/20 [==============================] - 2s 106ms/step - loss: 1.3707 - binary_crossentropy: 0.6185 - auc_1: 0.7997 - precision_1: 0.9626 - recall_1: 0.0464 - val_loss: 1.2653 - val_binary_crossentropy: 0.5844 - val_auc_1: 0.8660 - val_precision_1: 0.9879 - val_recall_1: 0.1616\n",
      "Epoch 7/100\n",
      "20/20 [==============================] - 2s 112ms/step - loss: 1.1713 - binary_crossentropy: 0.5395 - auc_1: 0.8475 - precision_1: 0.9347 - recall_1: 0.3476 - val_loss: 1.0729 - val_binary_crossentropy: 0.4879 - val_auc_1: 0.8753 - val_precision_1: 0.9095 - val_recall_1: 0.5958\n",
      "Epoch 8/100\n",
      "20/20 [==============================] - 2s 104ms/step - loss: 0.9918 - binary_crossentropy: 0.4408 - auc_1: 0.8778 - precision_1: 0.9072 - recall_1: 0.6550 - val_loss: 0.9258 - val_binary_crossentropy: 0.4108 - val_auc_1: 0.8736 - val_precision_1: 0.9027 - val_recall_1: 0.7072\n",
      "Epoch 9/100\n",
      "20/20 [==============================] - 2s 103ms/step - loss: 0.8482 - binary_crossentropy: 0.3645 - auc_1: 0.8985 - precision_1: 0.9180 - recall_1: 0.7677 - val_loss: 0.8247 - val_binary_crossentropy: 0.3759 - val_auc_1: 0.8789 - val_precision_1: 0.8929 - val_recall_1: 0.7641\n",
      "Epoch 10/100\n",
      "20/20 [==============================] - 2s 93ms/step - loss: 0.7385 - binary_crossentropy: 0.3183 - auc_1: 0.9194 - precision_1: 0.9275 - recall_1: 0.8128 - val_loss: 0.7501 - val_binary_crossentropy: 0.3593 - val_auc_1: 0.8806 - val_precision_1: 0.8890 - val_recall_1: 0.7787\n",
      "Epoch 11/100\n",
      "20/20 [==============================] - 2s 103ms/step - loss: 0.6490 - binary_crossentropy: 0.2812 - auc_1: 0.9340 - precision_1: 0.9435 - recall_1: 0.8463 - val_loss: 0.6950 - val_binary_crossentropy: 0.3502 - val_auc_1: 0.8812 - val_precision_1: 0.8926 - val_recall_1: 0.7748\n",
      "Epoch 12/100\n",
      "20/20 [==============================] - 2s 107ms/step - loss: 0.5779 - binary_crossentropy: 0.2495 - auc_1: 0.9442 - precision_1: 0.9516 - recall_1: 0.8700 - val_loss: 0.6541 - val_binary_crossentropy: 0.3427 - val_auc_1: 0.8825 - val_precision_1: 0.8881 - val_recall_1: 0.7934\n",
      "Epoch 13/100\n",
      "20/20 [==============================] - 2s 97ms/step - loss: 0.5183 - binary_crossentropy: 0.2196 - auc_1: 0.9532 - precision_1: 0.9615 - recall_1: 0.8887 - val_loss: 0.6247 - val_binary_crossentropy: 0.3399 - val_auc_1: 0.8849 - val_precision_1: 0.8759 - val_recall_1: 0.8198\n",
      "Epoch 14/100\n",
      "20/20 [==============================] - 2s 97ms/step - loss: 0.4700 - binary_crossentropy: 0.1959 - auc_1: 0.9628 - precision_1: 0.9675 - recall_1: 0.9040 - val_loss: 0.6010 - val_binary_crossentropy: 0.3379 - val_auc_1: 0.8831 - val_precision_1: 0.8769 - val_recall_1: 0.8222\n",
      "Epoch 15/100\n",
      "20/20 [==============================] - 2s 112ms/step - loss: 0.4299 - binary_crossentropy: 0.1750 - auc_1: 0.9690 - precision_1: 0.9716 - recall_1: 0.9202 - val_loss: 0.5856 - val_binary_crossentropy: 0.3390 - val_auc_1: 0.8746 - val_precision_1: 0.8990 - val_recall_1: 0.7803\n",
      "Epoch 16/100\n",
      "20/20 [==============================] - 2s 106ms/step - loss: 0.3973 - binary_crossentropy: 0.1569 - auc_1: 0.9736 - precision_1: 0.9782 - recall_1: 0.9314 - val_loss: 0.5715 - val_binary_crossentropy: 0.3373 - val_auc_1: 0.8775 - val_precision_1: 0.8834 - val_recall_1: 0.8052\n",
      "Epoch 17/100\n",
      "20/20 [==============================] - 2s 106ms/step - loss: 0.3702 - binary_crossentropy: 0.1407 - auc_1: 0.9785 - precision_1: 0.9831 - recall_1: 0.9402 - val_loss: 0.5629 - val_binary_crossentropy: 0.3387 - val_auc_1: 0.8794 - val_precision_1: 0.8723 - val_recall_1: 0.8202\n",
      "Epoch 18/100\n",
      "20/20 [==============================] - 2s 103ms/step - loss: 0.3481 - binary_crossentropy: 0.1286 - auc_1: 0.9830 - precision_1: 0.9862 - recall_1: 0.9491 - val_loss: 0.5541 - val_binary_crossentropy: 0.3392 - val_auc_1: 0.8765 - val_precision_1: 0.8795 - val_recall_1: 0.8076\n",
      "Epoch 19/100\n",
      "20/20 [==============================] - 2s 103ms/step - loss: 0.3281 - binary_crossentropy: 0.1162 - auc_1: 0.9859 - precision_1: 0.9904 - recall_1: 0.9565 - val_loss: 0.5496 - val_binary_crossentropy: 0.3412 - val_auc_1: 0.8772 - val_precision_1: 0.8748 - val_recall_1: 0.8171\n",
      "Epoch 20/100\n",
      "20/20 [==============================] - 2s 98ms/step - loss: 0.3123 - binary_crossentropy: 0.1070 - auc_1: 0.9889 - precision_1: 0.9922 - recall_1: 0.9636 - val_loss: 0.5457 - val_binary_crossentropy: 0.3434 - val_auc_1: 0.8755 - val_precision_1: 0.8703 - val_recall_1: 0.8218\n",
      "Epoch 21/100\n",
      "20/20 [==============================] - 2s 84ms/step - loss: 0.3014 - binary_crossentropy: 0.1016 - auc_1: 0.9883 - precision_1: 0.9917 - recall_1: 0.9660 - val_loss: 0.5413 - val_binary_crossentropy: 0.3443 - val_auc_1: 0.8750 - val_precision_1: 0.8734 - val_recall_1: 0.8151\n",
      "Epoch 22/100\n",
      "20/20 [==============================] - 2s 104ms/step - loss: 0.2896 - binary_crossentropy: 0.0945 - auc_1: 0.9911 - precision_1: 0.9940 - recall_1: 0.9696 - val_loss: 0.5390 - val_binary_crossentropy: 0.3460 - val_auc_1: 0.8737 - val_precision_1: 0.8826 - val_recall_1: 0.7961\n",
      "Epoch 23/100\n",
      "20/20 [==============================] - 2s 103ms/step - loss: 0.2812 - binary_crossentropy: 0.0902 - auc_1: 0.9922 - precision_1: 0.9947 - recall_1: 0.9736 - val_loss: 0.5357 - val_binary_crossentropy: 0.3467 - val_auc_1: 0.8743 - val_precision_1: 0.8788 - val_recall_1: 0.8052\n",
      "Epoch 24/100\n",
      "20/20 [==============================] - 2s 121ms/step - loss: 0.2727 - binary_crossentropy: 0.0846 - auc_1: 0.9928 - precision_1: 0.9960 - recall_1: 0.9742 - val_loss: 0.5360 - val_binary_crossentropy: 0.3493 - val_auc_1: 0.8746 - val_precision_1: 0.8667 - val_recall_1: 0.8250\n",
      "Epoch 25/100\n",
      "20/20 [==============================] - 2s 114ms/step - loss: 0.2662 - binary_crossentropy: 0.0808 - auc_1: 0.9934 - precision_1: 0.9970 - recall_1: 0.9764 - val_loss: 0.5344 - val_binary_crossentropy: 0.3508 - val_auc_1: 0.8743 - val_precision_1: 0.8652 - val_recall_1: 0.8266\n",
      "Epoch 26/100\n",
      "20/20 [==============================] - 2s 108ms/step - loss: 0.2594 - binary_crossentropy: 0.0770 - auc_1: 0.9949 - precision_1: 0.9972 - recall_1: 0.9795 - val_loss: 0.5321 - val_binary_crossentropy: 0.3508 - val_auc_1: 0.8715 - val_precision_1: 0.8780 - val_recall_1: 0.8021\n",
      "Epoch 27/100\n",
      "20/20 [==============================] - 2s 107ms/step - loss: 0.2545 - binary_crossentropy: 0.0742 - auc_1: 0.9948 - precision_1: 0.9974 - recall_1: 0.9782 - val_loss: 0.5306 - val_binary_crossentropy: 0.3515 - val_auc_1: 0.8732 - val_precision_1: 0.8739 - val_recall_1: 0.8131\n",
      "Epoch 28/100\n",
      "20/20 [==============================] - 2s 86ms/step - loss: 0.2484 - binary_crossentropy: 0.0707 - auc_1: 0.9961 - precision_1: 0.9974 - recall_1: 0.9818 - val_loss: 0.5284 - val_binary_crossentropy: 0.3519 - val_auc_1: 0.8719 - val_precision_1: 0.8732 - val_recall_1: 0.8107\n"
     ]
    },
    {
     "name": "stdout",
     "output_type": "stream",
     "text": [
      "Epoch 29/100\n",
      "20/20 [==============================] - 2s 90ms/step - loss: 0.2449 - binary_crossentropy: 0.0695 - auc_1: 0.9951 - precision_1: 0.9974 - recall_1: 0.9820 - val_loss: 0.5273 - val_binary_crossentropy: 0.3529 - val_auc_1: 0.8702 - val_precision_1: 0.8792 - val_recall_1: 0.8021\n",
      "Epoch 30/100\n",
      "20/20 [==============================] - 2s 89ms/step - loss: 0.2393 - binary_crossentropy: 0.0657 - auc_1: 0.9966 - precision_1: 0.9982 - recall_1: 0.9855 - val_loss: 0.5261 - val_binary_crossentropy: 0.3539 - val_auc_1: 0.8709 - val_precision_1: 0.8712 - val_recall_1: 0.8123\n",
      "Epoch 31/100\n",
      "20/20 [==============================] - 2s 94ms/step - loss: 0.2368 - binary_crossentropy: 0.0655 - auc_1: 0.9968 - precision_1: 0.9989 - recall_1: 0.9862 - val_loss: 0.5258 - val_binary_crossentropy: 0.3549 - val_auc_1: 0.8712 - val_precision_1: 0.8712 - val_recall_1: 0.8123\n",
      "Epoch 32/100\n",
      "20/20 [==============================] - 2s 98ms/step - loss: 0.2330 - binary_crossentropy: 0.0628 - auc_1: 0.9974 - precision_1: 0.9990 - recall_1: 0.9880 - val_loss: 0.5253 - val_binary_crossentropy: 0.3559 - val_auc_1: 0.8702 - val_precision_1: 0.8760 - val_recall_1: 0.8064\n",
      "Epoch 33/100\n",
      "20/20 [==============================] - 2s 92ms/step - loss: 0.2307 - binary_crossentropy: 0.0627 - auc_1: 0.9974 - precision_1: 0.9985 - recall_1: 0.9872 - val_loss: 0.5233 - val_binary_crossentropy: 0.3561 - val_auc_1: 0.8705 - val_precision_1: 0.8769 - val_recall_1: 0.8048\n",
      "Epoch 34/100\n",
      "20/20 [==============================] - 2s 110ms/step - loss: 0.2273 - binary_crossentropy: 0.0603 - auc_1: 0.9969 - precision_1: 0.9988 - recall_1: 0.9871 - val_loss: 0.5237 - val_binary_crossentropy: 0.3574 - val_auc_1: 0.8717 - val_precision_1: 0.8730 - val_recall_1: 0.8096\n",
      "Epoch 35/100\n",
      "20/20 [==============================] - 2s 109ms/step - loss: 0.2247 - binary_crossentropy: 0.0595 - auc_1: 0.9976 - precision_1: 0.9989 - recall_1: 0.9899 - val_loss: 0.5226 - val_binary_crossentropy: 0.3583 - val_auc_1: 0.8685 - val_precision_1: 0.8802 - val_recall_1: 0.7922\n",
      "Epoch 36/100\n",
      "20/20 [==============================] - 2s 93ms/step - loss: 0.2230 - binary_crossentropy: 0.0592 - auc_1: 0.9979 - precision_1: 0.9989 - recall_1: 0.9891 - val_loss: 0.5221 - val_binary_crossentropy: 0.3586 - val_auc_1: 0.8697 - val_precision_1: 0.8773 - val_recall_1: 0.7993\n",
      "Epoch 37/100\n",
      "20/20 [==============================] - 2s 97ms/step - loss: 0.2199 - binary_crossentropy: 0.0571 - auc_1: 0.9977 - precision_1: 0.9989 - recall_1: 0.9873 - val_loss: 0.5216 - val_binary_crossentropy: 0.3594 - val_auc_1: 0.8707 - val_precision_1: 0.8709 - val_recall_1: 0.8131\n",
      "Epoch 38/100\n",
      "20/20 [==============================] - 2s 105ms/step - loss: 0.2170 - binary_crossentropy: 0.0556 - auc_1: 0.9982 - precision_1: 0.9996 - recall_1: 0.9908 - val_loss: 0.5205 - val_binary_crossentropy: 0.3600 - val_auc_1: 0.8701 - val_precision_1: 0.8767 - val_recall_1: 0.8009\n",
      "Epoch 39/100\n",
      "20/20 [==============================] - 2s 111ms/step - loss: 0.2160 - binary_crossentropy: 0.0560 - auc_1: 0.9977 - precision_1: 0.9992 - recall_1: 0.9890 - val_loss: 0.5193 - val_binary_crossentropy: 0.3602 - val_auc_1: 0.8704 - val_precision_1: 0.8760 - val_recall_1: 0.8013\n",
      "Epoch 40/100\n",
      "20/20 [==============================] - 2s 86ms/step - loss: 0.2132 - binary_crossentropy: 0.0549 - auc_1: 0.9982 - precision_1: 0.9993 - recall_1: 0.9911 - val_loss: 0.5193 - val_binary_crossentropy: 0.3611 - val_auc_1: 0.8708 - val_precision_1: 0.8727 - val_recall_1: 0.8096\n",
      "Epoch 41/100\n",
      "20/20 [==============================] - 2s 101ms/step - loss: 0.2109 - binary_crossentropy: 0.0534 - auc_1: 0.9983 - precision_1: 0.9989 - recall_1: 0.9901 - val_loss: 0.5174 - val_binary_crossentropy: 0.3609 - val_auc_1: 0.8709 - val_precision_1: 0.8738 - val_recall_1: 0.8044\n",
      "Epoch 42/100\n",
      "20/20 [==============================] - 2s 104ms/step - loss: 0.2099 - binary_crossentropy: 0.0535 - auc_1: 0.9980 - precision_1: 0.9993 - recall_1: 0.9917 - val_loss: 0.5184 - val_binary_crossentropy: 0.3623 - val_auc_1: 0.8697 - val_precision_1: 0.8713 - val_recall_1: 0.8076\n",
      "Epoch 43/100\n",
      "20/20 [==============================] - 2s 107ms/step - loss: 0.2065 - binary_crossentropy: 0.0517 - auc_1: 0.9986 - precision_1: 0.9997 - recall_1: 0.9927 - val_loss: 0.5163 - val_binary_crossentropy: 0.3623 - val_auc_1: 0.8700 - val_precision_1: 0.8687 - val_recall_1: 0.8155\n",
      "Epoch 44/100\n",
      "20/20 [==============================] - 2s 103ms/step - loss: 0.2045 - binary_crossentropy: 0.0504 - auc_1: 0.9986 - precision_1: 0.9994 - recall_1: 0.9923 - val_loss: 0.5164 - val_binary_crossentropy: 0.3631 - val_auc_1: 0.8706 - val_precision_1: 0.8727 - val_recall_1: 0.8044\n",
      "Epoch 45/100\n",
      "20/20 [==============================] - 2s 91ms/step - loss: 0.2045 - binary_crossentropy: 0.0518 - auc_1: 0.9986 - precision_1: 0.9992 - recall_1: 0.9913 - val_loss: 0.5165 - val_binary_crossentropy: 0.3640 - val_auc_1: 0.8702 - val_precision_1: 0.8704 - val_recall_1: 0.8092\n",
      "Epoch 46/100\n",
      "20/20 [==============================] - 2s 98ms/step - loss: 0.2018 - binary_crossentropy: 0.0496 - auc_1: 0.9984 - precision_1: 0.9995 - recall_1: 0.9933 - val_loss: 0.5154 - val_binary_crossentropy: 0.3641 - val_auc_1: 0.8709 - val_precision_1: 0.8743 - val_recall_1: 0.8024\n",
      "Epoch 47/100\n",
      "20/20 [==============================] - 2s 106ms/step - loss: 0.1998 - binary_crossentropy: 0.0494 - auc_1: 0.9984 - precision_1: 0.9995 - recall_1: 0.9923 - val_loss: 0.5141 - val_binary_crossentropy: 0.3644 - val_auc_1: 0.8697 - val_precision_1: 0.8712 - val_recall_1: 0.8072\n",
      "Epoch 48/100\n",
      "20/20 [==============================] - 2s 104ms/step - loss: 0.1986 - binary_crossentropy: 0.0487 - auc_1: 0.9986 - precision_1: 0.9991 - recall_1: 0.9929 - val_loss: 0.5154 - val_binary_crossentropy: 0.3658 - val_auc_1: 0.8700 - val_precision_1: 0.8696 - val_recall_1: 0.8115\n",
      "Epoch 49/100\n",
      "20/20 [==============================] - 2s 104ms/step - loss: 0.1971 - binary_crossentropy: 0.0486 - auc_1: 0.9984 - precision_1: 0.9996 - recall_1: 0.9928 - val_loss: 0.5134 - val_binary_crossentropy: 0.3656 - val_auc_1: 0.8693 - val_precision_1: 0.8693 - val_recall_1: 0.8123\n",
      "Epoch 50/100\n",
      "20/20 [==============================] - 2s 102ms/step - loss: 0.1949 - binary_crossentropy: 0.0472 - auc_1: 0.9989 - precision_1: 0.9995 - recall_1: 0.9950 - val_loss: 0.5137 - val_binary_crossentropy: 0.3665 - val_auc_1: 0.8683 - val_precision_1: 0.8743 - val_recall_1: 0.8052\n",
      "Epoch 51/100\n",
      "20/20 [==============================] - 2s 102ms/step - loss: 0.1948 - binary_crossentropy: 0.0482 - auc_1: 0.9982 - precision_1: 0.9993 - recall_1: 0.9919 - val_loss: 0.5134 - val_binary_crossentropy: 0.3670 - val_auc_1: 0.8695 - val_precision_1: 0.8689 - val_recall_1: 0.8115\n",
      "Epoch 52/100\n",
      "20/20 [==============================] - 2s 102ms/step - loss: 0.1934 - binary_crossentropy: 0.0474 - auc_1: 0.9991 - precision_1: 0.9996 - recall_1: 0.9936 - val_loss: 0.5145 - val_binary_crossentropy: 0.3687 - val_auc_1: 0.8691 - val_precision_1: 0.8635 - val_recall_1: 0.8222\n",
      "Epoch 53/100\n",
      "20/20 [==============================] - 2s 104ms/step - loss: 0.1918 - binary_crossentropy: 0.0467 - auc_1: 0.9990 - precision_1: 0.9994 - recall_1: 0.9940 - val_loss: 0.5136 - val_binary_crossentropy: 0.3685 - val_auc_1: 0.8687 - val_precision_1: 0.8695 - val_recall_1: 0.8107\n",
      "Epoch 54/100\n",
      "20/20 [==============================] - 2s 104ms/step - loss: 0.1895 - binary_crossentropy: 0.0451 - auc_1: 0.9991 - precision_1: 0.9999 - recall_1: 0.9940 - val_loss: 0.5126 - val_binary_crossentropy: 0.3690 - val_auc_1: 0.8679 - val_precision_1: 0.8711 - val_recall_1: 0.8060\n",
      "Epoch 55/100\n",
      "20/20 [==============================] - 2s 102ms/step - loss: 0.1893 - binary_crossentropy: 0.0459 - auc_1: 0.9991 - precision_1: 0.9994 - recall_1: 0.9944 - val_loss: 0.5136 - val_binary_crossentropy: 0.3705 - val_auc_1: 0.8688 - val_precision_1: 0.8645 - val_recall_1: 0.8167\n",
      "Epoch 56/100\n",
      "20/20 [==============================] - 2s 105ms/step - loss: 0.1877 - binary_crossentropy: 0.0451 - auc_1: 0.9989 - precision_1: 0.9992 - recall_1: 0.9950 - val_loss: 0.5124 - val_binary_crossentropy: 0.3702 - val_auc_1: 0.8676 - val_precision_1: 0.8724 - val_recall_1: 0.8048\n",
      "Epoch 57/100\n"
     ]
    },
    {
     "name": "stdout",
     "output_type": "stream",
     "text": [
      "20/20 [==============================] - 2s 105ms/step - loss: 0.1860 - binary_crossentropy: 0.0445 - auc_1: 0.9990 - precision_1: 0.9996 - recall_1: 0.9933 - val_loss: 0.5103 - val_binary_crossentropy: 0.3698 - val_auc_1: 0.8679 - val_precision_1: 0.8732 - val_recall_1: 0.8052\n",
      "Epoch 58/100\n",
      "20/20 [==============================] - 2s 102ms/step - loss: 0.1853 - binary_crossentropy: 0.0447 - auc_1: 0.9990 - precision_1: 0.9998 - recall_1: 0.9937 - val_loss: 0.5155 - val_binary_crossentropy: 0.3746 - val_auc_1: 0.8693 - val_precision_1: 0.8561 - val_recall_1: 0.8297\n",
      "Epoch 59/100\n",
      "20/20 [==============================] - 2s 102ms/step - loss: 0.1844 - binary_crossentropy: 0.0439 - auc_1: 0.9993 - precision_1: 0.9998 - recall_1: 0.9943 - val_loss: 0.5123 - val_binary_crossentropy: 0.3722 - val_auc_1: 0.8672 - val_precision_1: 0.8723 - val_recall_1: 0.8044\n",
      "Epoch 60/100\n",
      "20/20 [==============================] - 2s 103ms/step - loss: 0.1825 - binary_crossentropy: 0.0430 - auc_1: 0.9993 - precision_1: 0.9996 - recall_1: 0.9948 - val_loss: 0.5109 - val_binary_crossentropy: 0.3720 - val_auc_1: 0.8661 - val_precision_1: 0.8766 - val_recall_1: 0.8001\n",
      "Epoch 61/100\n",
      "20/20 [==============================] - 2s 102ms/step - loss: 0.1822 - binary_crossentropy: 0.0435 - auc_1: 0.9990 - precision_1: 0.9994 - recall_1: 0.9943 - val_loss: 0.5118 - val_binary_crossentropy: 0.3733 - val_auc_1: 0.8642 - val_precision_1: 0.8805 - val_recall_1: 0.7886\n",
      "Epoch 62/100\n",
      "20/20 [==============================] - 2s 104ms/step - loss: 0.1810 - binary_crossentropy: 0.0430 - auc_1: 0.9992 - precision_1: 0.9997 - recall_1: 0.9943 - val_loss: 0.5102 - val_binary_crossentropy: 0.3728 - val_auc_1: 0.8666 - val_precision_1: 0.8761 - val_recall_1: 0.8017\n",
      "Epoch 63/100\n",
      "20/20 [==============================] - 2s 103ms/step - loss: 0.1797 - binary_crossentropy: 0.0425 - auc_1: 0.9991 - precision_1: 1.0000 - recall_1: 0.9948 - val_loss: 0.5108 - val_binary_crossentropy: 0.3737 - val_auc_1: 0.8672 - val_precision_1: 0.8726 - val_recall_1: 0.8064\n",
      "Epoch 64/100\n",
      "20/20 [==============================] - 2s 106ms/step - loss: 0.1787 - binary_crossentropy: 0.0422 - auc_1: 0.9990 - precision_1: 0.9997 - recall_1: 0.9946 - val_loss: 0.5124 - val_binary_crossentropy: 0.3760 - val_auc_1: 0.8695 - val_precision_1: 0.8580 - val_recall_1: 0.8238\n",
      "Epoch 65/100\n",
      "20/20 [==============================] - 2s 97ms/step - loss: 0.1771 - binary_crossentropy: 0.0413 - auc_1: 0.9993 - precision_1: 0.9995 - recall_1: 0.9957 - val_loss: 0.5094 - val_binary_crossentropy: 0.3743 - val_auc_1: 0.8652 - val_precision_1: 0.8761 - val_recall_1: 0.7965\n",
      "Epoch 66/100\n",
      "20/20 [==============================] - 2s 89ms/step - loss: 0.1766 - binary_crossentropy: 0.0416 - auc_1: 0.9992 - precision_1: 0.9997 - recall_1: 0.9953 - val_loss: 0.5113 - val_binary_crossentropy: 0.3763 - val_auc_1: 0.8687 - val_precision_1: 0.8625 - val_recall_1: 0.8230\n",
      "Epoch 67/100\n",
      "20/20 [==============================] - 2s 104ms/step - loss: 0.1755 - binary_crossentropy: 0.0406 - auc_1: 0.9991 - precision_1: 1.0000 - recall_1: 0.9953 - val_loss: 0.5106 - val_binary_crossentropy: 0.3761 - val_auc_1: 0.8667 - val_precision_1: 0.8673 - val_recall_1: 0.8135\n",
      "Epoch 68/100\n",
      "20/20 [==============================] - 2s 100ms/step - loss: 0.1739 - binary_crossentropy: 0.0403 - auc_1: 0.9991 - precision_1: 0.9998 - recall_1: 0.9952 - val_loss: 0.5091 - val_binary_crossentropy: 0.3760 - val_auc_1: 0.8647 - val_precision_1: 0.8758 - val_recall_1: 0.7993\n",
      "Epoch 69/100\n",
      "20/20 [==============================] - 2s 95ms/step - loss: 0.1733 - binary_crossentropy: 0.0405 - auc_1: 0.9989 - precision_1: 0.9994 - recall_1: 0.9937 - val_loss: 0.5088 - val_binary_crossentropy: 0.3763 - val_auc_1: 0.8659 - val_precision_1: 0.8708 - val_recall_1: 0.8123\n",
      "Epoch 70/100\n",
      "20/20 [==============================] - 2s 105ms/step - loss: 0.1719 - binary_crossentropy: 0.0399 - auc_1: 0.9990 - precision_1: 0.9999 - recall_1: 0.9953 - val_loss: 0.5079 - val_binary_crossentropy: 0.3766 - val_auc_1: 0.8671 - val_precision_1: 0.8683 - val_recall_1: 0.8155\n",
      "Epoch 71/100\n",
      "20/20 [==============================] - 2s 101ms/step - loss: 0.1715 - binary_crossentropy: 0.0395 - auc_1: 0.9989 - precision_1: 0.9998 - recall_1: 0.9947 - val_loss: 0.5106 - val_binary_crossentropy: 0.3787 - val_auc_1: 0.8674 - val_precision_1: 0.8662 - val_recall_1: 0.8186\n",
      "Epoch 72/100\n",
      "20/20 [==============================] - 2s 89ms/step - loss: 0.1706 - binary_crossentropy: 0.0394 - auc_1: 0.9989 - precision_1: 1.0000 - recall_1: 0.9949 - val_loss: 0.5081 - val_binary_crossentropy: 0.3776 - val_auc_1: 0.8651 - val_precision_1: 0.8700 - val_recall_1: 0.8068\n",
      "Epoch 73/100\n",
      "20/20 [==============================] - 2s 104ms/step - loss: 0.1691 - binary_crossentropy: 0.0387 - auc_1: 0.9995 - precision_1: 0.9998 - recall_1: 0.9961 - val_loss: 0.5081 - val_binary_crossentropy: 0.3782 - val_auc_1: 0.8659 - val_precision_1: 0.8683 - val_recall_1: 0.8151\n",
      "Epoch 74/100\n",
      "20/20 [==============================] - 2s 104ms/step - loss: 0.1686 - binary_crossentropy: 0.0391 - auc_1: 0.9993 - precision_1: 0.9999 - recall_1: 0.9962 - val_loss: 0.5080 - val_binary_crossentropy: 0.3786 - val_auc_1: 0.8649 - val_precision_1: 0.8700 - val_recall_1: 0.8068\n",
      "Epoch 75/100\n",
      "20/20 [==============================] - ETA: 0s - loss: 0.1675 - binary_crossentropy: 0.0381 - auc_1: 0.9993 - precision_1: 0.9998 - recall_1: 0.9956Restoring model weights from the end of the best epoch: 70.\n",
      "20/20 [==============================] - 2s 103ms/step - loss: 0.1675 - binary_crossentropy: 0.0381 - auc_1: 0.9993 - precision_1: 0.9998 - recall_1: 0.9956 - val_loss: 0.5088 - val_binary_crossentropy: 0.3802 - val_auc_1: 0.8681 - val_precision_1: 0.8621 - val_recall_1: 0.8222\n",
      "Epoch 75: early stopping\n"
     ]
    }
   ],
   "source": [
    "history = model.fit(\n",
    "    ds_train,\n",
    "    validation_data=ds_dev,\n",
    "    epochs=100,\n",
    "    callbacks=[early_stopping]\n",
    ")"
   ]
  },
  {
   "cell_type": "code",
   "execution_count": 45,
   "metadata": {},
   "outputs": [
    {
     "name": "stdout",
     "output_type": "stream",
     "text": [
      "Model: \"sequential_1\"\n",
      "_________________________________________________________________\n",
      " Layer (type)                Output Shape              Param #   \n",
      "=================================================================\n",
      " text_vectorization (TextVec  (None, 128)              0         \n",
      " torization)                                                     \n",
      "                                                                 \n",
      " embedding (Embedding)       (None, 128, 128)          1280000   \n",
      "                                                                 \n",
      " global_max_pooling1d (Globa  (None, 128)              0         \n",
      " lMaxPooling1D)                                                  \n",
      "                                                                 \n",
      " dense_3 (Dense)             (None, 64)                8256      \n",
      "                                                                 \n",
      " dropout_2 (Dropout)         (None, 64)                0         \n",
      "                                                                 \n",
      " dense_4 (Dense)             (None, 64)                4160      \n",
      "                                                                 \n",
      " dropout_3 (Dropout)         (None, 64)                0         \n",
      "                                                                 \n",
      " dense_5 (Dense)             (None, 1)                 65        \n",
      "                                                                 \n",
      "=================================================================\n",
      "Total params: 1,292,481\n",
      "Trainable params: 1,292,481\n",
      "Non-trainable params: 0\n",
      "_________________________________________________________________\n"
     ]
    }
   ],
   "source": [
    "model.summary()"
   ]
  },
  {
   "cell_type": "code",
   "execution_count": 46,
   "metadata": {
    "scrolled": true
   },
   "outputs": [
    {
     "name": "stdout",
     "output_type": "stream",
     "text": [
      "20/20 [==============================] - 1s 72ms/step - loss: 0.1550 - binary_crossentropy: 0.0237 - auc_1: 0.9999 - precision_1: 1.0000 - recall_1: 0.9996\n"
     ]
    }
   ],
   "source": [
    "train_metrics = model.evaluate(ds_train)"
   ]
  },
  {
   "cell_type": "code",
   "execution_count": 47,
   "metadata": {},
   "outputs": [
    {
     "name": "stdout",
     "output_type": "stream",
     "text": [
      "loss 0.15502309799194336\n",
      "binary_crossentropy 0.023677241057157516\n",
      "auc 0.999899685382843\n",
      "precision 1.0\n",
      "recall 0.9995987415313721\n"
     ]
    }
   ],
   "source": [
    "for n,m in zip(['loss']+metric_names, train_metrics):\n",
    "    print(n,m)"
   ]
  },
  {
   "cell_type": "code",
   "execution_count": 48,
   "metadata": {},
   "outputs": [
    {
     "name": "stdout",
     "output_type": "stream",
     "text": [
      "5/5 [==============================] - 0s 76ms/step - loss: 0.5079 - binary_crossentropy: 0.3766 - auc_1: 0.8671 - precision_1: 0.8683 - recall_1: 0.8155\n"
     ]
    }
   ],
   "source": [
    "dev_metrics = model.evaluate(ds_dev)"
   ]
  },
  {
   "cell_type": "code",
   "execution_count": 49,
   "metadata": {},
   "outputs": [
    {
     "name": "stdout",
     "output_type": "stream",
     "text": [
      "loss 0.5079076290130615\n",
      "binary_crossentropy 0.37656182050704956\n",
      "auc 0.8671210408210754\n",
      "precision 0.868321418762207\n",
      "recall 0.8154879212379456\n"
     ]
    }
   ],
   "source": [
    "for n,m in zip(['loss']+metric_names, dev_metrics):\n",
    "    print(n,m)"
   ]
  },
  {
   "cell_type": "code",
   "execution_count": 50,
   "metadata": {},
   "outputs": [],
   "source": [
    "scratch_model = model"
   ]
  },
  {
   "cell_type": "markdown",
   "metadata": {},
   "source": [
    "## Compare Performance"
   ]
  },
  {
   "cell_type": "markdown",
   "metadata": {},
   "source": [
    "### Model Leveraging Transfer Learning from Google Universal Sentence Encoder"
   ]
  },
  {
   "cell_type": "code",
   "execution_count": 51,
   "metadata": {},
   "outputs": [
    {
     "name": "stdout",
     "output_type": "stream",
     "text": [
      "Model: \"sequential\"\n",
      "_________________________________________________________________\n",
      " Layer (type)                Output Shape              Param #   \n",
      "=================================================================\n",
      " keras_layer (KerasLayer)    (None, 512)               256797824 \n",
      "                                                                 \n",
      " dense (Dense)               (None, 64)                32832     \n",
      "                                                                 \n",
      " dropout (Dropout)           (None, 64)                0         \n",
      "                                                                 \n",
      " dense_1 (Dense)             (None, 64)                4160      \n",
      "                                                                 \n",
      " dropout_1 (Dropout)         (None, 64)                0         \n",
      "                                                                 \n",
      " dense_2 (Dense)             (None, 1)                 65        \n",
      "                                                                 \n",
      "=================================================================\n",
      "Total params: 256,834,881\n",
      "Trainable params: 37,057\n",
      "Non-trainable params: 256,797,824\n",
      "_________________________________________________________________\n"
     ]
    }
   ],
   "source": [
    "pretrained_model.summary()"
   ]
  },
  {
   "cell_type": "code",
   "execution_count": 53,
   "metadata": {},
   "outputs": [
    {
     "name": "stdout",
     "output_type": "stream",
     "text": [
      "5/5 [==============================] - 4s 714ms/step - loss: 0.3623 - binary_crossentropy: 0.3167 - auc: 0.8926 - precision: 0.8946 - recall: 0.8164\n"
     ]
    }
   ],
   "source": [
    "pretrained_metrics = pretrained_model.evaluate(ds_test)"
   ]
  },
  {
   "cell_type": "code",
   "execution_count": 56,
   "metadata": {},
   "outputs": [
    {
     "name": "stdout",
     "output_type": "stream",
     "text": [
      "loss 0.3622795343399048\n",
      "binary_crossentropy 0.3167053461074829\n",
      "auc 0.892572283744812\n",
      "precision 0.894598126411438\n",
      "recall 0.8164328932762146\n"
     ]
    }
   ],
   "source": [
    "for n,m in zip(['loss']+metric_names, pretrained_metrics):\n",
    "    print(n,m)"
   ]
  },
  {
   "cell_type": "markdown",
   "metadata": {},
   "source": [
    "### Model Trained From Scratch Using Word Embedding With Max Pooling Aggregation to Sentence Level"
   ]
  },
  {
   "cell_type": "code",
   "execution_count": 54,
   "metadata": {},
   "outputs": [
    {
     "name": "stdout",
     "output_type": "stream",
     "text": [
      "Model: \"sequential_1\"\n",
      "_________________________________________________________________\n",
      " Layer (type)                Output Shape              Param #   \n",
      "=================================================================\n",
      " text_vectorization (TextVec  (None, 128)              0         \n",
      " torization)                                                     \n",
      "                                                                 \n",
      " embedding (Embedding)       (None, 128, 128)          1280000   \n",
      "                                                                 \n",
      " global_max_pooling1d (Globa  (None, 128)              0         \n",
      " lMaxPooling1D)                                                  \n",
      "                                                                 \n",
      " dense_3 (Dense)             (None, 64)                8256      \n",
      "                                                                 \n",
      " dropout_2 (Dropout)         (None, 64)                0         \n",
      "                                                                 \n",
      " dense_4 (Dense)             (None, 64)                4160      \n",
      "                                                                 \n",
      " dropout_3 (Dropout)         (None, 64)                0         \n",
      "                                                                 \n",
      " dense_5 (Dense)             (None, 1)                 65        \n",
      "                                                                 \n",
      "=================================================================\n",
      "Total params: 1,292,481\n",
      "Trainable params: 1,292,481\n",
      "Non-trainable params: 0\n",
      "_________________________________________________________________\n"
     ]
    }
   ],
   "source": [
    "scratch_model.summary()"
   ]
  },
  {
   "cell_type": "code",
   "execution_count": 55,
   "metadata": {},
   "outputs": [
    {
     "name": "stdout",
     "output_type": "stream",
     "text": [
      "5/5 [==============================] - 0s 72ms/step - loss: 0.5796 - binary_crossentropy: 0.4482 - auc_1: 0.8264 - precision_1: 0.8374 - recall_1: 0.7411\n"
     ]
    }
   ],
   "source": [
    "scratch_metrics = scratch_model.evaluate(ds_test)"
   ]
  },
  {
   "cell_type": "code",
   "execution_count": 57,
   "metadata": {},
   "outputs": [
    {
     "name": "stdout",
     "output_type": "stream",
     "text": [
      "loss 0.5795894861221313\n",
      "binary_crossentropy 0.4482436180114746\n",
      "auc 0.8264347910881042\n",
      "precision 0.8374094367027283\n",
      "recall 0.7410821914672852\n"
     ]
    }
   ],
   "source": [
    "for n,m in zip(['loss']+metric_names, scratch_metrics):\n",
    "    print(n,m)"
   ]
  },
  {
   "cell_type": "markdown",
   "metadata": {},
   "source": [
    "## Conclusions & Potential Next Steps"
   ]
  },
  {
   "cell_type": "markdown",
   "metadata": {},
   "source": [
    "The model leveraging transfer learning from a pretrained model has 0.895 precision and 0.816 recall on the standard benchmark IMDB Review Sentiment Analysis task, while the model trained from scratch has 0.837 precision and 0.741 recall. Given how much more elaborate the Google Universal Sentence Encoder Model is than a 128-dimensional word-embedding that uses max-pooling to aggregate to a sentence embedding. Given that the Google model is a general purpose model, the fact that it still outperforms a bespoke model trained specifically on the same precise type of data used in the evaluation demonstrates how much more robust it is. That said, with more data and a more sophisticated approach to sentence aggregation, possibly utilizing context information (e.g., a bespoke model using analogous approach to either BERT or ELMo - in this case probably BERT as it is sentiment ), it should be possible to get that extra 10% improvement in the precision and recall metrics."
   ]
  }
 ],
 "metadata": {
  "kernelspec": {
   "display_name": "Python 3",
   "language": "python",
   "name": "python3"
  },
  "language_info": {
   "codemirror_mode": {
    "name": "ipython",
    "version": 3
   },
   "file_extension": ".py",
   "mimetype": "text/x-python",
   "name": "python",
   "nbconvert_exporter": "python",
   "pygments_lexer": "ipython3",
   "version": "3.8.5"
  }
 },
 "nbformat": 4,
 "nbformat_minor": 4
}
